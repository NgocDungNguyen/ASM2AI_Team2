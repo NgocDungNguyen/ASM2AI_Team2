{
 "cells": [
  {
   "cell_type": "markdown",
   "metadata": {},
   "source": [
    "# COSC2968|COSC3053 - Foundations of Artificial Inteligence for STEM\n",
    "# Assignment 3: Option A - Machine Learning\n",
    "# Project: Weather Prediction Model for New York City\n",
    "#### Team 2\n",
    "- Nguyen Ngoc Dung (s)\n",
    "- Le Dam Quan (s4031504)\n",
    "- Nguyen Tran Ha Phan (s)\n",
    "- Phan Tri Hung (s)\n",
    "- Tran Quoc Hung (s)"
   ]
  },
  {
   "cell_type": "markdown",
   "metadata": {},
   "source": [
    "#### Introduction\n",
    "This notebook demonstrates the implementation of several Machine Learning models in a pipeline to generate forecasts for the future maximum temperature in New York City based on historical weather data. The dataset comprises the following characteristics: temperature, humidity, windspeed, cloud cover, and other variables associated to weather. Our approach involves data preprocessing, feature engineering, and application of diverse machine learning models. "
   ]
  }
 ],
 "metadata": {
  "language_info": {
   "name": "python"
  }
 },
 "nbformat": 4,
 "nbformat_minor": 2
}
